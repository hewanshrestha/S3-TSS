{
 "cells": [
  {
   "cell_type": "code",
   "execution_count": 1,
   "metadata": {},
   "outputs": [
    {
     "name": "stderr",
     "output_type": "stream",
     "text": [
      "/home/akansh-i2sc/anaconda3/envs/hlcv-light/lib/python3.11/site-packages/tqdm/auto.py:21: TqdmWarning: IProgress not found. Please update jupyter and ipywidgets. See https://ipywidgets.readthedocs.io/en/stable/user_install.html\n",
      "  from .autonotebook import tqdm as notebook_tqdm\n"
     ]
    }
   ],
   "source": [
    "import copy\n",
    "import pytorch_lightning as pl\n",
    "import torch\n",
    "import torchvision\n",
    "from torch import nn\n",
    "from lightly.loss import DINOLoss\n",
    "from lightly.models.modules import DINOProjectionHead\n",
    "from lightly.models.utils import deactivate_requires_grad, update_momentum\n",
    "from lightly.transforms.dino_transform import DINOTransform\n",
    "from lightly.utils.scheduler import cosine_schedule\n",
    "import os\n",
    "from lightly.data import LightlyDataset\n",
    "from tqdm.auto import tqdm\n",
    "import numpy as np"
   ]
  },
  {
   "cell_type": "code",
   "execution_count": 2,
   "metadata": {},
   "outputs": [],
   "source": [
    "import sys \n",
    "sys.path.insert(0, '/home/akansh-i2sc/Desktop/Study/HLCV/Why-Self-Supervision-in-Time/src/modules')\n",
    "import seco_dataset_temporal as seco"
   ]
  },
  {
   "cell_type": "code",
   "execution_count": 3,
   "metadata": {},
   "outputs": [],
   "source": [
    "class DINO(pl.LightningModule):\n",
    "    def __init__(self):\n",
    "        super().__init__()\n",
    "        resnet = torchvision.models.resnet18()\n",
    "        backbone = nn.Sequential(*list(resnet.children())[:-1])\n",
    "        input_dim = 512\n",
    "        # instead of a resnet you can also use a vision transformer backbone as in the\n",
    "        # original paper (you might have to reduce the batch size in this case):\n",
    "        # backbone = torch.hub.load('facebookresearch/dino:main', 'dino_vits16', pretrained=False)\n",
    "        # input_dim = backbone.embed_dim\n",
    "\n",
    "        self.student_backbone = backbone\n",
    "        self.student_head = DINOProjectionHead(\n",
    "            input_dim, 512, 64, 2048, freeze_last_layer=1\n",
    "        )\n",
    "        self.teacher_backbone = copy.deepcopy(backbone)\n",
    "        self.teacher_head = DINOProjectionHead(input_dim, 512, 64, 2048)\n",
    "        deactivate_requires_grad(self.teacher_backbone)\n",
    "        deactivate_requires_grad(self.teacher_head)\n",
    "\n",
    "        self.criterion = DINOLoss(output_dim=2048, warmup_teacher_temp_epochs=5)\n",
    "\n",
    "    def forward(self, x):\n",
    "        y = self.student_backbone(x).flatten(start_dim=1)\n",
    "        z = self.student_head(y)\n",
    "        return z\n",
    "\n",
    "    def forward_teacher(self, x):\n",
    "        y = self.teacher_backbone(x).flatten(start_dim=1)\n",
    "        z = self.teacher_head(y)\n",
    "        return z\n",
    "\n",
    "    def training_step(self, batch, batch_idx):\n",
    "        momentum = cosine_schedule(self.current_epoch, 10, 0.996, 1)\n",
    "        update_momentum(self.student_backbone, self.teacher_backbone, m=momentum)\n",
    "        update_momentum(self.student_head, self.teacher_head, m=momentum)\n",
    "        # views = batch[0]\n",
    "        views_1 = batch[0]\n",
    "        views_2 = batch[1]\n",
    "        # views = [view.to(self.device) for view in views]\n",
    "        views_1 = [view.to(self.device) for view in views_1[0:4:2]]\n",
    "        views_2 = [view.to(self.device) for view in views_2[0:4:2]]\n",
    "        views = views_1\n",
    "        views.extend(views_2)               # Teporal local+global views from 1 and 2\n",
    "        global_views = views_1[:1]          # Teporal global view 1\n",
    "        global_views.extend(views_2[:1])    # Teporal global view 2\n",
    "        # global_views = views[:2]\n",
    "        teacher_out = [self.forward_teacher(view) for view in global_views]\n",
    "        student_out = [self.forward(view) for view in views]\n",
    "        loss = self.criterion(teacher_out, student_out, epoch=self.current_epoch)\n",
    "        return loss\n",
    "\n",
    "    def on_after_backward(self):\n",
    "        self.student_head.cancel_last_layer_gradients(current_epoch=self.current_epoch)\n",
    "\n",
    "    def configure_optimizers(self):\n",
    "        optim = torch.optim.Adam(self.parameters(), lr=0.001)\n",
    "        return optim\n"
   ]
  },
  {
   "cell_type": "code",
   "execution_count": 4,
   "metadata": {},
   "outputs": [],
   "source": [
    "path2data = \"/home/akansh-i2sc/Desktop/Study/HLCV/SeCo_dataset/seco_100k/seasonal_contrast_100k/\"\n",
    "transform = DINOTransform(cj_prob = 0, random_gray_scale = 0,gaussian_blur = (0,0,0), solarization_prob = 0)\n",
    "seco_dataset = seco.SeasonalContrastTemporal(root=path2data, transform=transform)"
   ]
  },
  {
   "cell_type": "code",
   "execution_count": 5,
   "metadata": {},
   "outputs": [],
   "source": [
    "dataloader = torch.utils.data.DataLoader(\n",
    "    seco_dataset,\n",
    "    batch_size=64,\n",
    "    shuffle=True,\n",
    "    drop_last=True,\n",
    "    num_workers=4,\n",
    ")"
   ]
  },
  {
   "cell_type": "code",
   "execution_count": 6,
   "metadata": {},
   "outputs": [],
   "source": [
    "model = DINO()"
   ]
  },
  {
   "cell_type": "code",
   "execution_count": 7,
   "metadata": {},
   "outputs": [
    {
     "name": "stderr",
     "output_type": "stream",
     "text": [
      "GPU available: True (cuda), used: True\n",
      "TPU available: False, using: 0 TPU cores\n",
      "IPU available: False, using: 0 IPUs\n",
      "HPU available: False, using: 0 HPUs\n"
     ]
    },
    {
     "name": "stderr",
     "output_type": "stream",
     "text": [
      "You are using a CUDA device ('NVIDIA RTX A4000') that has Tensor Cores. To properly utilize them, you should set `torch.set_float32_matmul_precision('medium' | 'high')` which will trade-off precision for performance. For more details, read https://pytorch.org/docs/stable/generated/torch.set_float32_matmul_precision.html#torch.set_float32_matmul_precision\n"
     ]
    },
    {
     "name": "stdout",
     "output_type": "stream",
     "text": [
      "gpu\n"
     ]
    },
    {
     "name": "stderr",
     "output_type": "stream",
     "text": [
      "LOCAL_RANK: 0 - CUDA_VISIBLE_DEVICES: [0]\n",
      "\n",
      "  | Name             | Type               | Params\n",
      "--------------------------------------------------------\n",
      "0 | student_backbone | Sequential         | 11.2 M\n",
      "1 | student_head     | DINOProjectionHead | 691 K \n",
      "2 | teacher_backbone | Sequential         | 11.2 M\n",
      "3 | teacher_head     | DINOProjectionHead | 691 K \n",
      "4 | criterion        | DINOLoss           | 0     \n",
      "--------------------------------------------------------\n",
      "11.9 M    Trainable params\n",
      "11.9 M    Non-trainable params\n",
      "23.7 M    Total params\n",
      "94.942    Total estimated model params size (MB)\n"
     ]
    },
    {
     "name": "stdout",
     "output_type": "stream",
     "text": [
      "Epoch 11:   0%|          | 1/312 [00:02<11:31,  2.22s/it, loss=3.59, v_num=2]  "
     ]
    },
    {
     "name": "stderr",
     "output_type": "stream",
     "text": [
      "/home/akansh-i2sc/anaconda3/envs/hlcv-light/lib/python3.11/site-packages/lightly/utils/scheduler.py:32: RuntimeWarning: Current step number 11 exceeds max_steps 10.\n",
      "  warnings.warn(\n"
     ]
    },
    {
     "name": "stdout",
     "output_type": "stream",
     "text": [
      "Epoch 12:   0%|          | 1/312 [00:01<09:25,  1.82s/it, loss=3.69, v_num=2]  "
     ]
    },
    {
     "name": "stderr",
     "output_type": "stream",
     "text": [
      "/home/akansh-i2sc/anaconda3/envs/hlcv-light/lib/python3.11/site-packages/lightly/utils/scheduler.py:32: RuntimeWarning: Current step number 12 exceeds max_steps 10.\n",
      "  warnings.warn(\n"
     ]
    },
    {
     "name": "stdout",
     "output_type": "stream",
     "text": [
      "Epoch 13:   0%|          | 1/312 [00:01<08:42,  1.68s/it, loss=3.53, v_num=2]  "
     ]
    },
    {
     "name": "stderr",
     "output_type": "stream",
     "text": [
      "/home/akansh-i2sc/anaconda3/envs/hlcv-light/lib/python3.11/site-packages/lightly/utils/scheduler.py:32: RuntimeWarning: Current step number 13 exceeds max_steps 10.\n",
      "  warnings.warn(\n"
     ]
    },
    {
     "name": "stdout",
     "output_type": "stream",
     "text": [
      "Epoch 14:   0%|          | 1/312 [00:01<08:57,  1.73s/it, loss=3.44, v_num=2]  "
     ]
    },
    {
     "name": "stderr",
     "output_type": "stream",
     "text": [
      "/home/akansh-i2sc/anaconda3/envs/hlcv-light/lib/python3.11/site-packages/lightly/utils/scheduler.py:32: RuntimeWarning: Current step number 14 exceeds max_steps 10.\n",
      "  warnings.warn(\n"
     ]
    },
    {
     "name": "stdout",
     "output_type": "stream",
     "text": [
      "Epoch 15:   0%|          | 1/312 [00:01<08:59,  1.73s/it, loss=3.39, v_num=2]  "
     ]
    },
    {
     "name": "stderr",
     "output_type": "stream",
     "text": [
      "/home/akansh-i2sc/anaconda3/envs/hlcv-light/lib/python3.11/site-packages/lightly/utils/scheduler.py:32: RuntimeWarning: Current step number 15 exceeds max_steps 10.\n",
      "  warnings.warn(\n"
     ]
    },
    {
     "name": "stdout",
     "output_type": "stream",
     "text": [
      "Epoch 16:   0%|          | 1/312 [00:01<10:03,  1.94s/it, loss=3.25, v_num=2]  "
     ]
    },
    {
     "name": "stderr",
     "output_type": "stream",
     "text": [
      "/home/akansh-i2sc/anaconda3/envs/hlcv-light/lib/python3.11/site-packages/lightly/utils/scheduler.py:32: RuntimeWarning: Current step number 16 exceeds max_steps 10.\n",
      "  warnings.warn(\n"
     ]
    },
    {
     "name": "stdout",
     "output_type": "stream",
     "text": [
      "Epoch 17:   0%|          | 1/312 [00:01<08:59,  1.74s/it, loss=3.06, v_num=2]  "
     ]
    },
    {
     "name": "stderr",
     "output_type": "stream",
     "text": [
      "/home/akansh-i2sc/anaconda3/envs/hlcv-light/lib/python3.11/site-packages/lightly/utils/scheduler.py:32: RuntimeWarning: Current step number 17 exceeds max_steps 10.\n",
      "  warnings.warn(\n"
     ]
    },
    {
     "name": "stdout",
     "output_type": "stream",
     "text": [
      "Epoch 18:   0%|          | 1/312 [00:01<09:20,  1.80s/it, loss=2.99, v_num=2]  "
     ]
    },
    {
     "name": "stderr",
     "output_type": "stream",
     "text": [
      "/home/akansh-i2sc/anaconda3/envs/hlcv-light/lib/python3.11/site-packages/lightly/utils/scheduler.py:32: RuntimeWarning: Current step number 18 exceeds max_steps 10.\n",
      "  warnings.warn(\n"
     ]
    },
    {
     "name": "stdout",
     "output_type": "stream",
     "text": [
      "Epoch 19:   0%|          | 1/312 [00:01<08:49,  1.70s/it, loss=2.79, v_num=2]  "
     ]
    },
    {
     "name": "stderr",
     "output_type": "stream",
     "text": [
      "/home/akansh-i2sc/anaconda3/envs/hlcv-light/lib/python3.11/site-packages/lightly/utils/scheduler.py:32: RuntimeWarning: Current step number 19 exceeds max_steps 10.\n",
      "  warnings.warn(\n"
     ]
    },
    {
     "name": "stdout",
     "output_type": "stream",
     "text": [
      "Epoch 20:   0%|          | 1/312 [00:01<08:40,  1.67s/it, loss=2.73, v_num=2]  "
     ]
    },
    {
     "name": "stderr",
     "output_type": "stream",
     "text": [
      "/home/akansh-i2sc/anaconda3/envs/hlcv-light/lib/python3.11/site-packages/lightly/utils/scheduler.py:32: RuntimeWarning: Current step number 20 exceeds max_steps 10.\n",
      "  warnings.warn(\n"
     ]
    },
    {
     "name": "stdout",
     "output_type": "stream",
     "text": [
      "Epoch 21:   0%|          | 1/312 [00:01<08:37,  1.66s/it, loss=2.7, v_num=2]   "
     ]
    },
    {
     "name": "stderr",
     "output_type": "stream",
     "text": [
      "/home/akansh-i2sc/anaconda3/envs/hlcv-light/lib/python3.11/site-packages/lightly/utils/scheduler.py:32: RuntimeWarning: Current step number 21 exceeds max_steps 10.\n",
      "  warnings.warn(\n"
     ]
    },
    {
     "name": "stdout",
     "output_type": "stream",
     "text": [
      "Epoch 22:   0%|          | 1/312 [00:01<09:08,  1.76s/it, loss=2.61, v_num=2]  "
     ]
    },
    {
     "name": "stderr",
     "output_type": "stream",
     "text": [
      "/home/akansh-i2sc/anaconda3/envs/hlcv-light/lib/python3.11/site-packages/lightly/utils/scheduler.py:32: RuntimeWarning: Current step number 22 exceeds max_steps 10.\n",
      "  warnings.warn(\n"
     ]
    },
    {
     "name": "stdout",
     "output_type": "stream",
     "text": [
      "Epoch 23:   0%|          | 1/312 [00:01<08:40,  1.67s/it, loss=2.58, v_num=2]  "
     ]
    },
    {
     "name": "stderr",
     "output_type": "stream",
     "text": [
      "/home/akansh-i2sc/anaconda3/envs/hlcv-light/lib/python3.11/site-packages/lightly/utils/scheduler.py:32: RuntimeWarning: Current step number 23 exceeds max_steps 10.\n",
      "  warnings.warn(\n"
     ]
    },
    {
     "name": "stdout",
     "output_type": "stream",
     "text": [
      "Epoch 24:   0%|          | 1/312 [00:01<08:33,  1.65s/it, loss=2.47, v_num=2]  "
     ]
    },
    {
     "name": "stderr",
     "output_type": "stream",
     "text": [
      "/home/akansh-i2sc/anaconda3/envs/hlcv-light/lib/python3.11/site-packages/lightly/utils/scheduler.py:32: RuntimeWarning: Current step number 24 exceeds max_steps 10.\n",
      "  warnings.warn(\n"
     ]
    },
    {
     "name": "stdout",
     "output_type": "stream",
     "text": [
      "Epoch 25:   0%|          | 1/312 [00:01<09:10,  1.77s/it, loss=2.52, v_num=2]  "
     ]
    },
    {
     "name": "stderr",
     "output_type": "stream",
     "text": [
      "/home/akansh-i2sc/anaconda3/envs/hlcv-light/lib/python3.11/site-packages/lightly/utils/scheduler.py:32: RuntimeWarning: Current step number 25 exceeds max_steps 10.\n",
      "  warnings.warn(\n"
     ]
    },
    {
     "name": "stdout",
     "output_type": "stream",
     "text": [
      "Epoch 26:   0%|          | 1/312 [00:01<08:38,  1.67s/it, loss=2.49, v_num=2]  "
     ]
    },
    {
     "name": "stderr",
     "output_type": "stream",
     "text": [
      "/home/akansh-i2sc/anaconda3/envs/hlcv-light/lib/python3.11/site-packages/lightly/utils/scheduler.py:32: RuntimeWarning: Current step number 26 exceeds max_steps 10.\n",
      "  warnings.warn(\n"
     ]
    },
    {
     "name": "stdout",
     "output_type": "stream",
     "text": [
      "Epoch 27:   0%|          | 1/312 [00:01<09:04,  1.75s/it, loss=2.36, v_num=2]  "
     ]
    },
    {
     "name": "stderr",
     "output_type": "stream",
     "text": [
      "/home/akansh-i2sc/anaconda3/envs/hlcv-light/lib/python3.11/site-packages/lightly/utils/scheduler.py:32: RuntimeWarning: Current step number 27 exceeds max_steps 10.\n",
      "  warnings.warn(\n"
     ]
    },
    {
     "name": "stdout",
     "output_type": "stream",
     "text": [
      "Epoch 28:   0%|          | 1/312 [00:01<08:50,  1.71s/it, loss=2.47, v_num=2]  "
     ]
    },
    {
     "name": "stderr",
     "output_type": "stream",
     "text": [
      "/home/akansh-i2sc/anaconda3/envs/hlcv-light/lib/python3.11/site-packages/lightly/utils/scheduler.py:32: RuntimeWarning: Current step number 28 exceeds max_steps 10.\n",
      "  warnings.warn(\n"
     ]
    },
    {
     "name": "stdout",
     "output_type": "stream",
     "text": [
      "Epoch 29:   0%|          | 1/312 [00:01<08:52,  1.71s/it, loss=2.41, v_num=2]  "
     ]
    },
    {
     "name": "stderr",
     "output_type": "stream",
     "text": [
      "/home/akansh-i2sc/anaconda3/envs/hlcv-light/lib/python3.11/site-packages/lightly/utils/scheduler.py:32: RuntimeWarning: Current step number 29 exceeds max_steps 10.\n",
      "  warnings.warn(\n"
     ]
    },
    {
     "name": "stdout",
     "output_type": "stream",
     "text": [
      "Epoch 30:   0%|          | 1/312 [00:01<08:42,  1.68s/it, loss=2.42, v_num=2]  "
     ]
    },
    {
     "name": "stderr",
     "output_type": "stream",
     "text": [
      "/home/akansh-i2sc/anaconda3/envs/hlcv-light/lib/python3.11/site-packages/lightly/utils/scheduler.py:32: RuntimeWarning: Current step number 30 exceeds max_steps 10.\n",
      "  warnings.warn(\n"
     ]
    },
    {
     "name": "stdout",
     "output_type": "stream",
     "text": [
      "Epoch 31:   0%|          | 1/312 [00:01<08:34,  1.65s/it, loss=2.4, v_num=2]   "
     ]
    },
    {
     "name": "stderr",
     "output_type": "stream",
     "text": [
      "/home/akansh-i2sc/anaconda3/envs/hlcv-light/lib/python3.11/site-packages/lightly/utils/scheduler.py:32: RuntimeWarning: Current step number 31 exceeds max_steps 10.\n",
      "  warnings.warn(\n"
     ]
    },
    {
     "name": "stdout",
     "output_type": "stream",
     "text": [
      "Epoch 32:   0%|          | 1/312 [00:01<08:52,  1.71s/it, loss=2.28, v_num=2]  "
     ]
    },
    {
     "name": "stderr",
     "output_type": "stream",
     "text": [
      "/home/akansh-i2sc/anaconda3/envs/hlcv-light/lib/python3.11/site-packages/lightly/utils/scheduler.py:32: RuntimeWarning: Current step number 32 exceeds max_steps 10.\n",
      "  warnings.warn(\n"
     ]
    },
    {
     "name": "stdout",
     "output_type": "stream",
     "text": [
      "Epoch 33:   0%|          | 1/312 [00:01<10:05,  1.95s/it, loss=2.31, v_num=2]  "
     ]
    },
    {
     "name": "stderr",
     "output_type": "stream",
     "text": [
      "/home/akansh-i2sc/anaconda3/envs/hlcv-light/lib/python3.11/site-packages/lightly/utils/scheduler.py:32: RuntimeWarning: Current step number 33 exceeds max_steps 10.\n",
      "  warnings.warn(\n"
     ]
    },
    {
     "name": "stdout",
     "output_type": "stream",
     "text": [
      "Epoch 34:   0%|          | 1/312 [00:01<08:53,  1.72s/it, loss=2.47, v_num=2]  "
     ]
    },
    {
     "name": "stderr",
     "output_type": "stream",
     "text": [
      "/home/akansh-i2sc/anaconda3/envs/hlcv-light/lib/python3.11/site-packages/lightly/utils/scheduler.py:32: RuntimeWarning: Current step number 34 exceeds max_steps 10.\n",
      "  warnings.warn(\n"
     ]
    },
    {
     "name": "stdout",
     "output_type": "stream",
     "text": [
      "Epoch 35:   0%|          | 1/312 [00:01<09:04,  1.75s/it, loss=2.26, v_num=2]  "
     ]
    },
    {
     "name": "stderr",
     "output_type": "stream",
     "text": [
      "/home/akansh-i2sc/anaconda3/envs/hlcv-light/lib/python3.11/site-packages/lightly/utils/scheduler.py:32: RuntimeWarning: Current step number 35 exceeds max_steps 10.\n",
      "  warnings.warn(\n"
     ]
    },
    {
     "name": "stdout",
     "output_type": "stream",
     "text": [
      "Epoch 36:   0%|          | 1/312 [00:01<08:59,  1.73s/it, loss=2.21, v_num=2]  "
     ]
    },
    {
     "name": "stderr",
     "output_type": "stream",
     "text": [
      "/home/akansh-i2sc/anaconda3/envs/hlcv-light/lib/python3.11/site-packages/lightly/utils/scheduler.py:32: RuntimeWarning: Current step number 36 exceeds max_steps 10.\n",
      "  warnings.warn(\n"
     ]
    },
    {
     "name": "stdout",
     "output_type": "stream",
     "text": [
      "Epoch 37:   0%|          | 1/312 [00:01<09:02,  1.75s/it, loss=2.16, v_num=2]  "
     ]
    },
    {
     "name": "stderr",
     "output_type": "stream",
     "text": [
      "/home/akansh-i2sc/anaconda3/envs/hlcv-light/lib/python3.11/site-packages/lightly/utils/scheduler.py:32: RuntimeWarning: Current step number 37 exceeds max_steps 10.\n",
      "  warnings.warn(\n"
     ]
    },
    {
     "name": "stdout",
     "output_type": "stream",
     "text": [
      "Epoch 38:   0%|          | 1/312 [00:01<08:55,  1.72s/it, loss=2.15, v_num=2]  "
     ]
    },
    {
     "name": "stderr",
     "output_type": "stream",
     "text": [
      "/home/akansh-i2sc/anaconda3/envs/hlcv-light/lib/python3.11/site-packages/lightly/utils/scheduler.py:32: RuntimeWarning: Current step number 38 exceeds max_steps 10.\n",
      "  warnings.warn(\n"
     ]
    },
    {
     "name": "stdout",
     "output_type": "stream",
     "text": [
      "Epoch 39:   0%|          | 1/312 [00:01<09:10,  1.77s/it, loss=2.18, v_num=2]  "
     ]
    },
    {
     "name": "stderr",
     "output_type": "stream",
     "text": [
      "/home/akansh-i2sc/anaconda3/envs/hlcv-light/lib/python3.11/site-packages/lightly/utils/scheduler.py:32: RuntimeWarning: Current step number 39 exceeds max_steps 10.\n",
      "  warnings.warn(\n"
     ]
    },
    {
     "name": "stdout",
     "output_type": "stream",
     "text": [
      "Epoch 40:   0%|          | 1/312 [00:01<08:46,  1.69s/it, loss=2.09, v_num=2]  "
     ]
    },
    {
     "name": "stderr",
     "output_type": "stream",
     "text": [
      "/home/akansh-i2sc/anaconda3/envs/hlcv-light/lib/python3.11/site-packages/lightly/utils/scheduler.py:32: RuntimeWarning: Current step number 40 exceeds max_steps 10.\n",
      "  warnings.warn(\n"
     ]
    },
    {
     "name": "stdout",
     "output_type": "stream",
     "text": [
      "Epoch 41:   0%|          | 1/312 [00:01<08:36,  1.66s/it, loss=2.07, v_num=2]  "
     ]
    },
    {
     "name": "stderr",
     "output_type": "stream",
     "text": [
      "/home/akansh-i2sc/anaconda3/envs/hlcv-light/lib/python3.11/site-packages/lightly/utils/scheduler.py:32: RuntimeWarning: Current step number 41 exceeds max_steps 10.\n",
      "  warnings.warn(\n"
     ]
    },
    {
     "name": "stdout",
     "output_type": "stream",
     "text": [
      "Epoch 42:   0%|          | 1/312 [00:01<08:42,  1.68s/it, loss=2.18, v_num=2]  "
     ]
    },
    {
     "name": "stderr",
     "output_type": "stream",
     "text": [
      "/home/akansh-i2sc/anaconda3/envs/hlcv-light/lib/python3.11/site-packages/lightly/utils/scheduler.py:32: RuntimeWarning: Current step number 42 exceeds max_steps 10.\n",
      "  warnings.warn(\n"
     ]
    },
    {
     "name": "stdout",
     "output_type": "stream",
     "text": [
      "Epoch 43:   0%|          | 1/312 [00:01<08:55,  1.72s/it, loss=1.95, v_num=2]  "
     ]
    },
    {
     "name": "stderr",
     "output_type": "stream",
     "text": [
      "/home/akansh-i2sc/anaconda3/envs/hlcv-light/lib/python3.11/site-packages/lightly/utils/scheduler.py:32: RuntimeWarning: Current step number 43 exceeds max_steps 10.\n",
      "  warnings.warn(\n"
     ]
    },
    {
     "name": "stdout",
     "output_type": "stream",
     "text": [
      "Epoch 44:   0%|          | 1/312 [00:01<09:16,  1.79s/it, loss=2, v_num=2]     "
     ]
    },
    {
     "name": "stderr",
     "output_type": "stream",
     "text": [
      "/home/akansh-i2sc/anaconda3/envs/hlcv-light/lib/python3.11/site-packages/lightly/utils/scheduler.py:32: RuntimeWarning: Current step number 44 exceeds max_steps 10.\n",
      "  warnings.warn(\n"
     ]
    },
    {
     "name": "stdout",
     "output_type": "stream",
     "text": [
      "Epoch 45:   0%|          | 1/312 [00:01<08:57,  1.73s/it, loss=1.94, v_num=2]  "
     ]
    },
    {
     "name": "stderr",
     "output_type": "stream",
     "text": [
      "/home/akansh-i2sc/anaconda3/envs/hlcv-light/lib/python3.11/site-packages/lightly/utils/scheduler.py:32: RuntimeWarning: Current step number 45 exceeds max_steps 10.\n",
      "  warnings.warn(\n"
     ]
    },
    {
     "name": "stdout",
     "output_type": "stream",
     "text": [
      "Epoch 46:   0%|          | 1/312 [00:01<08:47,  1.70s/it, loss=2.03, v_num=2]  "
     ]
    },
    {
     "name": "stderr",
     "output_type": "stream",
     "text": [
      "/home/akansh-i2sc/anaconda3/envs/hlcv-light/lib/python3.11/site-packages/lightly/utils/scheduler.py:32: RuntimeWarning: Current step number 46 exceeds max_steps 10.\n",
      "  warnings.warn(\n"
     ]
    },
    {
     "name": "stdout",
     "output_type": "stream",
     "text": [
      "Epoch 47:   0%|          | 1/312 [00:01<08:51,  1.71s/it, loss=1.96, v_num=2]  "
     ]
    },
    {
     "name": "stderr",
     "output_type": "stream",
     "text": [
      "/home/akansh-i2sc/anaconda3/envs/hlcv-light/lib/python3.11/site-packages/lightly/utils/scheduler.py:32: RuntimeWarning: Current step number 47 exceeds max_steps 10.\n",
      "  warnings.warn(\n"
     ]
    },
    {
     "name": "stdout",
     "output_type": "stream",
     "text": [
      "Epoch 48:   0%|          | 1/312 [00:01<08:54,  1.72s/it, loss=2.09, v_num=2]  "
     ]
    },
    {
     "name": "stderr",
     "output_type": "stream",
     "text": [
      "/home/akansh-i2sc/anaconda3/envs/hlcv-light/lib/python3.11/site-packages/lightly/utils/scheduler.py:32: RuntimeWarning: Current step number 48 exceeds max_steps 10.\n",
      "  warnings.warn(\n"
     ]
    },
    {
     "name": "stdout",
     "output_type": "stream",
     "text": [
      "Epoch 49:   0%|          | 1/312 [00:01<08:47,  1.70s/it, loss=1.96, v_num=2]  "
     ]
    },
    {
     "name": "stderr",
     "output_type": "stream",
     "text": [
      "/home/akansh-i2sc/anaconda3/envs/hlcv-light/lib/python3.11/site-packages/lightly/utils/scheduler.py:32: RuntimeWarning: Current step number 49 exceeds max_steps 10.\n",
      "  warnings.warn(\n"
     ]
    },
    {
     "name": "stdout",
     "output_type": "stream",
     "text": [
      "Epoch 50:   0%|          | 1/312 [00:01<09:14,  1.78s/it, loss=1.99, v_num=2]  "
     ]
    },
    {
     "name": "stderr",
     "output_type": "stream",
     "text": [
      "/home/akansh-i2sc/anaconda3/envs/hlcv-light/lib/python3.11/site-packages/lightly/utils/scheduler.py:32: RuntimeWarning: Current step number 50 exceeds max_steps 10.\n",
      "  warnings.warn(\n"
     ]
    },
    {
     "name": "stdout",
     "output_type": "stream",
     "text": [
      "Epoch 51:   0%|          | 1/312 [00:01<09:10,  1.77s/it, loss=2.03, v_num=2]  "
     ]
    },
    {
     "name": "stderr",
     "output_type": "stream",
     "text": [
      "/home/akansh-i2sc/anaconda3/envs/hlcv-light/lib/python3.11/site-packages/lightly/utils/scheduler.py:32: RuntimeWarning: Current step number 51 exceeds max_steps 10.\n",
      "  warnings.warn(\n"
     ]
    },
    {
     "name": "stdout",
     "output_type": "stream",
     "text": [
      "Epoch 52:   0%|          | 1/312 [00:01<09:01,  1.74s/it, loss=2.03, v_num=2]  "
     ]
    },
    {
     "name": "stderr",
     "output_type": "stream",
     "text": [
      "/home/akansh-i2sc/anaconda3/envs/hlcv-light/lib/python3.11/site-packages/lightly/utils/scheduler.py:32: RuntimeWarning: Current step number 52 exceeds max_steps 10.\n",
      "  warnings.warn(\n"
     ]
    },
    {
     "name": "stdout",
     "output_type": "stream",
     "text": [
      "Epoch 53:   0%|          | 1/312 [00:01<09:01,  1.74s/it, loss=2, v_num=2]     "
     ]
    },
    {
     "name": "stderr",
     "output_type": "stream",
     "text": [
      "/home/akansh-i2sc/anaconda3/envs/hlcv-light/lib/python3.11/site-packages/lightly/utils/scheduler.py:32: RuntimeWarning: Current step number 53 exceeds max_steps 10.\n",
      "  warnings.warn(\n"
     ]
    },
    {
     "name": "stdout",
     "output_type": "stream",
     "text": [
      "Epoch 54:   0%|          | 1/312 [00:01<09:21,  1.81s/it, loss=2.01, v_num=2]  "
     ]
    },
    {
     "name": "stderr",
     "output_type": "stream",
     "text": [
      "/home/akansh-i2sc/anaconda3/envs/hlcv-light/lib/python3.11/site-packages/lightly/utils/scheduler.py:32: RuntimeWarning: Current step number 54 exceeds max_steps 10.\n",
      "  warnings.warn(\n"
     ]
    },
    {
     "name": "stdout",
     "output_type": "stream",
     "text": [
      "Epoch 55:   0%|          | 1/312 [00:01<09:10,  1.77s/it, loss=1.89, v_num=2]  "
     ]
    },
    {
     "name": "stderr",
     "output_type": "stream",
     "text": [
      "/home/akansh-i2sc/anaconda3/envs/hlcv-light/lib/python3.11/site-packages/lightly/utils/scheduler.py:32: RuntimeWarning: Current step number 55 exceeds max_steps 10.\n",
      "  warnings.warn(\n"
     ]
    },
    {
     "name": "stdout",
     "output_type": "stream",
     "text": [
      "Epoch 56:   0%|          | 1/312 [00:01<08:55,  1.72s/it, loss=1.79, v_num=2]  "
     ]
    },
    {
     "name": "stderr",
     "output_type": "stream",
     "text": [
      "/home/akansh-i2sc/anaconda3/envs/hlcv-light/lib/python3.11/site-packages/lightly/utils/scheduler.py:32: RuntimeWarning: Current step number 56 exceeds max_steps 10.\n",
      "  warnings.warn(\n"
     ]
    },
    {
     "name": "stdout",
     "output_type": "stream",
     "text": [
      "Epoch 57:   0%|          | 1/312 [00:01<09:03,  1.75s/it, loss=1.89, v_num=2]  "
     ]
    },
    {
     "name": "stderr",
     "output_type": "stream",
     "text": [
      "/home/akansh-i2sc/anaconda3/envs/hlcv-light/lib/python3.11/site-packages/lightly/utils/scheduler.py:32: RuntimeWarning: Current step number 57 exceeds max_steps 10.\n",
      "  warnings.warn(\n"
     ]
    },
    {
     "name": "stdout",
     "output_type": "stream",
     "text": [
      "Epoch 58:   0%|          | 1/312 [00:01<09:07,  1.76s/it, loss=1.81, v_num=2]  "
     ]
    },
    {
     "name": "stderr",
     "output_type": "stream",
     "text": [
      "/home/akansh-i2sc/anaconda3/envs/hlcv-light/lib/python3.11/site-packages/lightly/utils/scheduler.py:32: RuntimeWarning: Current step number 58 exceeds max_steps 10.\n",
      "  warnings.warn(\n"
     ]
    },
    {
     "name": "stdout",
     "output_type": "stream",
     "text": [
      "Epoch 59:   0%|          | 1/312 [00:01<09:10,  1.77s/it, loss=2, v_num=2]     "
     ]
    },
    {
     "name": "stderr",
     "output_type": "stream",
     "text": [
      "/home/akansh-i2sc/anaconda3/envs/hlcv-light/lib/python3.11/site-packages/lightly/utils/scheduler.py:32: RuntimeWarning: Current step number 59 exceeds max_steps 10.\n",
      "  warnings.warn(\n"
     ]
    },
    {
     "name": "stdout",
     "output_type": "stream",
     "text": [
      "Epoch 60:   0%|          | 1/312 [00:01<09:04,  1.75s/it, loss=1.84, v_num=2]  "
     ]
    },
    {
     "name": "stderr",
     "output_type": "stream",
     "text": [
      "/home/akansh-i2sc/anaconda3/envs/hlcv-light/lib/python3.11/site-packages/lightly/utils/scheduler.py:32: RuntimeWarning: Current step number 60 exceeds max_steps 10.\n",
      "  warnings.warn(\n"
     ]
    },
    {
     "name": "stdout",
     "output_type": "stream",
     "text": [
      "Epoch 61:   0%|          | 1/312 [00:01<08:57,  1.73s/it, loss=1.92, v_num=2]  "
     ]
    },
    {
     "name": "stderr",
     "output_type": "stream",
     "text": [
      "/home/akansh-i2sc/anaconda3/envs/hlcv-light/lib/python3.11/site-packages/lightly/utils/scheduler.py:32: RuntimeWarning: Current step number 61 exceeds max_steps 10.\n",
      "  warnings.warn(\n"
     ]
    },
    {
     "name": "stdout",
     "output_type": "stream",
     "text": [
      "Epoch 62:   0%|          | 1/312 [00:01<09:09,  1.77s/it, loss=1.85, v_num=2]  "
     ]
    },
    {
     "name": "stderr",
     "output_type": "stream",
     "text": [
      "/home/akansh-i2sc/anaconda3/envs/hlcv-light/lib/python3.11/site-packages/lightly/utils/scheduler.py:32: RuntimeWarning: Current step number 62 exceeds max_steps 10.\n",
      "  warnings.warn(\n"
     ]
    },
    {
     "name": "stdout",
     "output_type": "stream",
     "text": [
      "Epoch 63:   0%|          | 1/312 [00:01<08:55,  1.72s/it, loss=1.89, v_num=2]  "
     ]
    },
    {
     "name": "stderr",
     "output_type": "stream",
     "text": [
      "/home/akansh-i2sc/anaconda3/envs/hlcv-light/lib/python3.11/site-packages/lightly/utils/scheduler.py:32: RuntimeWarning: Current step number 63 exceeds max_steps 10.\n",
      "  warnings.warn(\n"
     ]
    },
    {
     "name": "stdout",
     "output_type": "stream",
     "text": [
      "Epoch 64:   0%|          | 1/312 [00:01<09:22,  1.81s/it, loss=1.83, v_num=2]  "
     ]
    },
    {
     "name": "stderr",
     "output_type": "stream",
     "text": [
      "/home/akansh-i2sc/anaconda3/envs/hlcv-light/lib/python3.11/site-packages/lightly/utils/scheduler.py:32: RuntimeWarning: Current step number 64 exceeds max_steps 10.\n",
      "  warnings.warn(\n"
     ]
    },
    {
     "name": "stdout",
     "output_type": "stream",
     "text": [
      "Epoch 65:   0%|          | 1/312 [00:01<09:13,  1.78s/it, loss=1.93, v_num=2]  "
     ]
    },
    {
     "name": "stderr",
     "output_type": "stream",
     "text": [
      "/home/akansh-i2sc/anaconda3/envs/hlcv-light/lib/python3.11/site-packages/lightly/utils/scheduler.py:32: RuntimeWarning: Current step number 65 exceeds max_steps 10.\n",
      "  warnings.warn(\n"
     ]
    },
    {
     "name": "stdout",
     "output_type": "stream",
     "text": [
      "Epoch 66:   0%|          | 1/312 [00:01<08:59,  1.73s/it, loss=1.79, v_num=2]  "
     ]
    },
    {
     "name": "stderr",
     "output_type": "stream",
     "text": [
      "/home/akansh-i2sc/anaconda3/envs/hlcv-light/lib/python3.11/site-packages/lightly/utils/scheduler.py:32: RuntimeWarning: Current step number 66 exceeds max_steps 10.\n",
      "  warnings.warn(\n"
     ]
    },
    {
     "name": "stdout",
     "output_type": "stream",
     "text": [
      "Epoch 67:   0%|          | 1/312 [00:01<08:57,  1.73s/it, loss=1.89, v_num=2]  "
     ]
    },
    {
     "name": "stderr",
     "output_type": "stream",
     "text": [
      "/home/akansh-i2sc/anaconda3/envs/hlcv-light/lib/python3.11/site-packages/lightly/utils/scheduler.py:32: RuntimeWarning: Current step number 67 exceeds max_steps 10.\n",
      "  warnings.warn(\n"
     ]
    },
    {
     "name": "stdout",
     "output_type": "stream",
     "text": [
      "Epoch 68:   0%|          | 1/312 [00:01<09:08,  1.77s/it, loss=1.78, v_num=2]  "
     ]
    },
    {
     "name": "stderr",
     "output_type": "stream",
     "text": [
      "/home/akansh-i2sc/anaconda3/envs/hlcv-light/lib/python3.11/site-packages/lightly/utils/scheduler.py:32: RuntimeWarning: Current step number 68 exceeds max_steps 10.\n",
      "  warnings.warn(\n"
     ]
    },
    {
     "name": "stdout",
     "output_type": "stream",
     "text": [
      "Epoch 69:   0%|          | 1/312 [00:01<09:04,  1.75s/it, loss=1.89, v_num=2]  "
     ]
    },
    {
     "name": "stderr",
     "output_type": "stream",
     "text": [
      "/home/akansh-i2sc/anaconda3/envs/hlcv-light/lib/python3.11/site-packages/lightly/utils/scheduler.py:32: RuntimeWarning: Current step number 69 exceeds max_steps 10.\n",
      "  warnings.warn(\n"
     ]
    },
    {
     "name": "stdout",
     "output_type": "stream",
     "text": [
      "Epoch 70:   0%|          | 1/312 [00:01<09:11,  1.77s/it, loss=1.74, v_num=2]  "
     ]
    },
    {
     "name": "stderr",
     "output_type": "stream",
     "text": [
      "/home/akansh-i2sc/anaconda3/envs/hlcv-light/lib/python3.11/site-packages/lightly/utils/scheduler.py:32: RuntimeWarning: Current step number 70 exceeds max_steps 10.\n",
      "  warnings.warn(\n"
     ]
    },
    {
     "name": "stdout",
     "output_type": "stream",
     "text": [
      "Epoch 71:   0%|          | 1/312 [00:01<09:25,  1.82s/it, loss=1.94, v_num=2]  "
     ]
    },
    {
     "name": "stderr",
     "output_type": "stream",
     "text": [
      "/home/akansh-i2sc/anaconda3/envs/hlcv-light/lib/python3.11/site-packages/lightly/utils/scheduler.py:32: RuntimeWarning: Current step number 71 exceeds max_steps 10.\n",
      "  warnings.warn(\n"
     ]
    },
    {
     "name": "stdout",
     "output_type": "stream",
     "text": [
      "Epoch 72:   0%|          | 1/312 [00:01<08:53,  1.72s/it, loss=1.92, v_num=2]  "
     ]
    },
    {
     "name": "stderr",
     "output_type": "stream",
     "text": [
      "/home/akansh-i2sc/anaconda3/envs/hlcv-light/lib/python3.11/site-packages/lightly/utils/scheduler.py:32: RuntimeWarning: Current step number 72 exceeds max_steps 10.\n",
      "  warnings.warn(\n"
     ]
    },
    {
     "name": "stdout",
     "output_type": "stream",
     "text": [
      "Epoch 73:   0%|          | 1/312 [00:01<09:20,  1.80s/it, loss=1.74, v_num=2]  "
     ]
    },
    {
     "name": "stderr",
     "output_type": "stream",
     "text": [
      "/home/akansh-i2sc/anaconda3/envs/hlcv-light/lib/python3.11/site-packages/lightly/utils/scheduler.py:32: RuntimeWarning: Current step number 73 exceeds max_steps 10.\n",
      "  warnings.warn(\n"
     ]
    },
    {
     "name": "stdout",
     "output_type": "stream",
     "text": [
      "Epoch 74:   0%|          | 1/312 [00:01<09:15,  1.79s/it, loss=1.75, v_num=2]  "
     ]
    },
    {
     "name": "stderr",
     "output_type": "stream",
     "text": [
      "/home/akansh-i2sc/anaconda3/envs/hlcv-light/lib/python3.11/site-packages/lightly/utils/scheduler.py:32: RuntimeWarning: Current step number 74 exceeds max_steps 10.\n",
      "  warnings.warn(\n"
     ]
    },
    {
     "name": "stdout",
     "output_type": "stream",
     "text": [
      "Epoch 75:   0%|          | 1/312 [00:01<08:56,  1.72s/it, loss=1.79, v_num=2]  "
     ]
    },
    {
     "name": "stderr",
     "output_type": "stream",
     "text": [
      "/home/akansh-i2sc/anaconda3/envs/hlcv-light/lib/python3.11/site-packages/lightly/utils/scheduler.py:32: RuntimeWarning: Current step number 75 exceeds max_steps 10.\n",
      "  warnings.warn(\n"
     ]
    },
    {
     "name": "stdout",
     "output_type": "stream",
     "text": [
      "Epoch 76:   0%|          | 1/312 [00:01<08:50,  1.71s/it, loss=1.92, v_num=2]  "
     ]
    },
    {
     "name": "stderr",
     "output_type": "stream",
     "text": [
      "/home/akansh-i2sc/anaconda3/envs/hlcv-light/lib/python3.11/site-packages/lightly/utils/scheduler.py:32: RuntimeWarning: Current step number 76 exceeds max_steps 10.\n",
      "  warnings.warn(\n"
     ]
    },
    {
     "name": "stdout",
     "output_type": "stream",
     "text": [
      "Epoch 77:   0%|          | 1/312 [00:01<09:24,  1.81s/it, loss=1.66, v_num=2]  "
     ]
    },
    {
     "name": "stderr",
     "output_type": "stream",
     "text": [
      "/home/akansh-i2sc/anaconda3/envs/hlcv-light/lib/python3.11/site-packages/lightly/utils/scheduler.py:32: RuntimeWarning: Current step number 77 exceeds max_steps 10.\n",
      "  warnings.warn(\n"
     ]
    },
    {
     "name": "stdout",
     "output_type": "stream",
     "text": [
      "Epoch 78:   0%|          | 1/312 [00:02<10:52,  2.10s/it, loss=1.73, v_num=2]  "
     ]
    },
    {
     "name": "stderr",
     "output_type": "stream",
     "text": [
      "/home/akansh-i2sc/anaconda3/envs/hlcv-light/lib/python3.11/site-packages/lightly/utils/scheduler.py:32: RuntimeWarning: Current step number 78 exceeds max_steps 10.\n",
      "  warnings.warn(\n"
     ]
    },
    {
     "name": "stdout",
     "output_type": "stream",
     "text": [
      "Epoch 79:   0%|          | 1/312 [00:01<09:13,  1.78s/it, loss=1.67, v_num=2]  "
     ]
    },
    {
     "name": "stderr",
     "output_type": "stream",
     "text": [
      "/home/akansh-i2sc/anaconda3/envs/hlcv-light/lib/python3.11/site-packages/lightly/utils/scheduler.py:32: RuntimeWarning: Current step number 79 exceeds max_steps 10.\n",
      "  warnings.warn(\n"
     ]
    },
    {
     "name": "stdout",
     "output_type": "stream",
     "text": [
      "Epoch 80:   0%|          | 1/312 [00:01<09:03,  1.75s/it, loss=1.59, v_num=2]  "
     ]
    },
    {
     "name": "stderr",
     "output_type": "stream",
     "text": [
      "/home/akansh-i2sc/anaconda3/envs/hlcv-light/lib/python3.11/site-packages/lightly/utils/scheduler.py:32: RuntimeWarning: Current step number 80 exceeds max_steps 10.\n",
      "  warnings.warn(\n"
     ]
    },
    {
     "name": "stdout",
     "output_type": "stream",
     "text": [
      "Epoch 81:   0%|          | 1/312 [00:01<09:22,  1.81s/it, loss=1.78, v_num=2]  "
     ]
    },
    {
     "name": "stderr",
     "output_type": "stream",
     "text": [
      "/home/akansh-i2sc/anaconda3/envs/hlcv-light/lib/python3.11/site-packages/lightly/utils/scheduler.py:32: RuntimeWarning: Current step number 81 exceeds max_steps 10.\n",
      "  warnings.warn(\n"
     ]
    },
    {
     "name": "stdout",
     "output_type": "stream",
     "text": [
      "Epoch 82:   0%|          | 1/312 [00:01<09:50,  1.90s/it, loss=1.75, v_num=2]  "
     ]
    },
    {
     "name": "stderr",
     "output_type": "stream",
     "text": [
      "/home/akansh-i2sc/anaconda3/envs/hlcv-light/lib/python3.11/site-packages/lightly/utils/scheduler.py:32: RuntimeWarning: Current step number 82 exceeds max_steps 10.\n",
      "  warnings.warn(\n"
     ]
    },
    {
     "name": "stdout",
     "output_type": "stream",
     "text": [
      "Epoch 83:   0%|          | 1/312 [00:01<08:45,  1.69s/it, loss=1.74, v_num=2]  "
     ]
    },
    {
     "name": "stderr",
     "output_type": "stream",
     "text": [
      "/home/akansh-i2sc/anaconda3/envs/hlcv-light/lib/python3.11/site-packages/lightly/utils/scheduler.py:32: RuntimeWarning: Current step number 83 exceeds max_steps 10.\n",
      "  warnings.warn(\n"
     ]
    },
    {
     "name": "stdout",
     "output_type": "stream",
     "text": [
      "Epoch 84:   0%|          | 1/312 [00:01<09:16,  1.79s/it, loss=1.85, v_num=2]  "
     ]
    },
    {
     "name": "stderr",
     "output_type": "stream",
     "text": [
      "/home/akansh-i2sc/anaconda3/envs/hlcv-light/lib/python3.11/site-packages/lightly/utils/scheduler.py:32: RuntimeWarning: Current step number 84 exceeds max_steps 10.\n",
      "  warnings.warn(\n"
     ]
    },
    {
     "name": "stdout",
     "output_type": "stream",
     "text": [
      "Epoch 85:   0%|          | 1/312 [00:01<09:18,  1.79s/it, loss=1.86, v_num=2]  "
     ]
    },
    {
     "name": "stderr",
     "output_type": "stream",
     "text": [
      "/home/akansh-i2sc/anaconda3/envs/hlcv-light/lib/python3.11/site-packages/lightly/utils/scheduler.py:32: RuntimeWarning: Current step number 85 exceeds max_steps 10.\n",
      "  warnings.warn(\n"
     ]
    },
    {
     "name": "stdout",
     "output_type": "stream",
     "text": [
      "Epoch 86:   0%|          | 1/312 [00:01<08:49,  1.70s/it, loss=1.91, v_num=2]  "
     ]
    },
    {
     "name": "stderr",
     "output_type": "stream",
     "text": [
      "/home/akansh-i2sc/anaconda3/envs/hlcv-light/lib/python3.11/site-packages/lightly/utils/scheduler.py:32: RuntimeWarning: Current step number 86 exceeds max_steps 10.\n",
      "  warnings.warn(\n"
     ]
    },
    {
     "name": "stdout",
     "output_type": "stream",
     "text": [
      "Epoch 87:   0%|          | 1/312 [00:01<09:45,  1.88s/it, loss=1.83, v_num=2]  "
     ]
    },
    {
     "name": "stderr",
     "output_type": "stream",
     "text": [
      "/home/akansh-i2sc/anaconda3/envs/hlcv-light/lib/python3.11/site-packages/lightly/utils/scheduler.py:32: RuntimeWarning: Current step number 87 exceeds max_steps 10.\n",
      "  warnings.warn(\n"
     ]
    },
    {
     "name": "stdout",
     "output_type": "stream",
     "text": [
      "Epoch 88:   0%|          | 1/312 [00:01<09:22,  1.81s/it, loss=1.84, v_num=2]  "
     ]
    },
    {
     "name": "stderr",
     "output_type": "stream",
     "text": [
      "/home/akansh-i2sc/anaconda3/envs/hlcv-light/lib/python3.11/site-packages/lightly/utils/scheduler.py:32: RuntimeWarning: Current step number 88 exceeds max_steps 10.\n",
      "  warnings.warn(\n"
     ]
    },
    {
     "name": "stdout",
     "output_type": "stream",
     "text": [
      "Epoch 89:   0%|          | 1/312 [00:01<09:12,  1.78s/it, loss=1.72, v_num=2]  "
     ]
    },
    {
     "name": "stderr",
     "output_type": "stream",
     "text": [
      "/home/akansh-i2sc/anaconda3/envs/hlcv-light/lib/python3.11/site-packages/lightly/utils/scheduler.py:32: RuntimeWarning: Current step number 89 exceeds max_steps 10.\n",
      "  warnings.warn(\n"
     ]
    },
    {
     "name": "stdout",
     "output_type": "stream",
     "text": [
      "Epoch 90:   0%|          | 1/312 [00:01<10:13,  1.97s/it, loss=1.69, v_num=2]  "
     ]
    },
    {
     "name": "stderr",
     "output_type": "stream",
     "text": [
      "/home/akansh-i2sc/anaconda3/envs/hlcv-light/lib/python3.11/site-packages/lightly/utils/scheduler.py:32: RuntimeWarning: Current step number 90 exceeds max_steps 10.\n",
      "  warnings.warn(\n"
     ]
    },
    {
     "name": "stdout",
     "output_type": "stream",
     "text": [
      "Epoch 91:   0%|          | 1/312 [00:01<10:18,  1.99s/it, loss=1.78, v_num=2]  "
     ]
    },
    {
     "name": "stderr",
     "output_type": "stream",
     "text": [
      "/home/akansh-i2sc/anaconda3/envs/hlcv-light/lib/python3.11/site-packages/lightly/utils/scheduler.py:32: RuntimeWarning: Current step number 91 exceeds max_steps 10.\n",
      "  warnings.warn(\n"
     ]
    },
    {
     "name": "stdout",
     "output_type": "stream",
     "text": [
      "Epoch 92:   0%|          | 0/312 [00:00<?, ?it/s, loss=1.81, v_num=2]          "
     ]
    },
    {
     "name": "stderr",
     "output_type": "stream",
     "text": [
      "/home/akansh-i2sc/anaconda3/envs/hlcv-light/lib/python3.11/site-packages/lightly/utils/scheduler.py:32: RuntimeWarning: Current step number 92 exceeds max_steps 10.\n",
      "  warnings.warn(\n"
     ]
    },
    {
     "name": "stdout",
     "output_type": "stream",
     "text": [
      "Epoch 93:   0%|          | 1/312 [00:01<09:55,  1.92s/it, loss=1.61, v_num=2]  "
     ]
    },
    {
     "name": "stderr",
     "output_type": "stream",
     "text": [
      "/home/akansh-i2sc/anaconda3/envs/hlcv-light/lib/python3.11/site-packages/lightly/utils/scheduler.py:32: RuntimeWarning: Current step number 93 exceeds max_steps 10.\n",
      "  warnings.warn(\n"
     ]
    },
    {
     "name": "stdout",
     "output_type": "stream",
     "text": [
      "Epoch 94:   0%|          | 0/312 [00:00<?, ?it/s, loss=1.73, v_num=2]          "
     ]
    },
    {
     "name": "stderr",
     "output_type": "stream",
     "text": [
      "/home/akansh-i2sc/anaconda3/envs/hlcv-light/lib/python3.11/site-packages/lightly/utils/scheduler.py:32: RuntimeWarning: Current step number 94 exceeds max_steps 10.\n",
      "  warnings.warn(\n"
     ]
    },
    {
     "name": "stdout",
     "output_type": "stream",
     "text": [
      "Epoch 95:   0%|          | 1/312 [00:01<08:51,  1.71s/it, loss=1.69, v_num=2]  "
     ]
    },
    {
     "name": "stderr",
     "output_type": "stream",
     "text": [
      "/home/akansh-i2sc/anaconda3/envs/hlcv-light/lib/python3.11/site-packages/lightly/utils/scheduler.py:32: RuntimeWarning: Current step number 95 exceeds max_steps 10.\n",
      "  warnings.warn(\n"
     ]
    },
    {
     "name": "stdout",
     "output_type": "stream",
     "text": [
      "Epoch 96:   0%|          | 1/312 [00:01<09:40,  1.87s/it, loss=1.66, v_num=2]  "
     ]
    },
    {
     "name": "stderr",
     "output_type": "stream",
     "text": [
      "/home/akansh-i2sc/anaconda3/envs/hlcv-light/lib/python3.11/site-packages/lightly/utils/scheduler.py:32: RuntimeWarning: Current step number 96 exceeds max_steps 10.\n",
      "  warnings.warn(\n"
     ]
    },
    {
     "name": "stdout",
     "output_type": "stream",
     "text": [
      "Epoch 97:   0%|          | 1/312 [00:01<09:59,  1.93s/it, loss=1.59, v_num=2]  "
     ]
    },
    {
     "name": "stderr",
     "output_type": "stream",
     "text": [
      "/home/akansh-i2sc/anaconda3/envs/hlcv-light/lib/python3.11/site-packages/lightly/utils/scheduler.py:32: RuntimeWarning: Current step number 97 exceeds max_steps 10.\n",
      "  warnings.warn(\n"
     ]
    },
    {
     "name": "stdout",
     "output_type": "stream",
     "text": [
      "Epoch 98:   0%|          | 1/312 [00:01<09:10,  1.77s/it, loss=1.7, v_num=2]   "
     ]
    },
    {
     "name": "stderr",
     "output_type": "stream",
     "text": [
      "/home/akansh-i2sc/anaconda3/envs/hlcv-light/lib/python3.11/site-packages/lightly/utils/scheduler.py:32: RuntimeWarning: Current step number 98 exceeds max_steps 10.\n",
      "  warnings.warn(\n"
     ]
    },
    {
     "name": "stdout",
     "output_type": "stream",
     "text": [
      "Epoch 99:   0%|          | 1/312 [00:01<09:24,  1.81s/it, loss=1.91, v_num=2]  "
     ]
    },
    {
     "name": "stderr",
     "output_type": "stream",
     "text": [
      "/home/akansh-i2sc/anaconda3/envs/hlcv-light/lib/python3.11/site-packages/lightly/utils/scheduler.py:32: RuntimeWarning: Current step number 99 exceeds max_steps 10.\n",
      "  warnings.warn(\n"
     ]
    },
    {
     "name": "stdout",
     "output_type": "stream",
     "text": [
      "Epoch 99: 100%|██████████| 312/312 [01:30<00:00,  3.43it/s, loss=1.61, v_num=2]"
     ]
    },
    {
     "name": "stderr",
     "output_type": "stream",
     "text": [
      "`Trainer.fit` stopped: `max_epochs=100` reached.\n"
     ]
    },
    {
     "name": "stdout",
     "output_type": "stream",
     "text": [
      "Epoch 99: 100%|██████████| 312/312 [01:31<00:00,  3.43it/s, loss=1.61, v_num=2]\n"
     ]
    }
   ],
   "source": [
    "accelerator = \"gpu\" if torch.cuda.is_available() else \"cpu\"\n",
    "print(accelerator)\n",
    "trainer = pl.Trainer(max_epochs=100, devices=1, accelerator=accelerator)\n",
    "\n",
    "# trainer = pl.Trainer(\n",
    "#     max_epochs=1,\n",
    "#     devices=\"auto\",\n",
    "#     accelerator=\"gpu\",\n",
    "#     strategy=\"ddp\",\n",
    "#     sync_batchnorm=True,\n",
    "#     replace_sampler_ddp=True,  # or replace_sampler_ddp=True for PyTorch Lightning <2.0\n",
    "# )\n",
    "\n",
    "trainer.fit(model=model, train_dataloaders=dataloader)\n"
   ]
  },
  {
   "cell_type": "code",
   "execution_count": 8,
   "metadata": {},
   "outputs": [],
   "source": [
    "pretrained_resnet_backbone = model.teacher_backbone\n",
    "state_dict = {\"resnet18_parameters\": pretrained_resnet_backbone.state_dict()}\n",
    "torch.save(state_dict, \"/home/akansh-i2sc/Desktop/Study/HLCV/Why-Self-Supervision-in-Time/src/models/pre-trained_weights/resnet18_model_dino_temporal_20k_100e.pth\")"
   ]
  },
  {
   "cell_type": "code",
   "execution_count": null,
   "metadata": {},
   "outputs": [],
   "source": []
  }
 ],
 "metadata": {
  "kernelspec": {
   "display_name": "hlcv-light",
   "language": "python",
   "name": "python3"
  },
  "language_info": {
   "codemirror_mode": {
    "name": "ipython",
    "version": 3
   },
   "file_extension": ".py",
   "mimetype": "text/x-python",
   "name": "python",
   "nbconvert_exporter": "python",
   "pygments_lexer": "ipython3",
   "version": "3.11.4"
  },
  "orig_nbformat": 4
 },
 "nbformat": 4,
 "nbformat_minor": 2
}
