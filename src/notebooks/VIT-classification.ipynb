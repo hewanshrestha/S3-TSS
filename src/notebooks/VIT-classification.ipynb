{
 "cells": [
  {
   "cell_type": "code",
   "execution_count": 1,
   "metadata": {},
   "outputs": [],
   "source": [
    "#Perform EuroSat classification using VIT\n",
    "import os\n",
    "import sys\n",
    "import numpy as np\n",
    "import pandas as pd\n",
    "import matplotlib.pyplot as plt\n",
    "import torch\n",
    "import torch.nn as nn\n",
    "import torchvision\n",
    "import torchvision.transforms as transforms\n",
    "from torch.utils.data import Dataset, DataLoader\n",
    "from PIL import Image\n",
    "from sklearn.metrics import confusion_matrix\n",
    "from sklearn.metrics import classification_report\n",
    "from sklearn.metrics import accuracy_score, roc_curve, precision_recall_curve, average_precision_score\n",
    "from tqdm.auto import tqdm\n",
    "import torch.optim as optim\n",
    "from torch.optim import lr_scheduler\n",
    "from torchvision import datasets, models, transforms\n",
    "from torch.utils.data import DataLoader\n",
    "import random\n",
    "from torch.utils.data import Subset\n",
    "random.seed(42)"
   ]
  },
  {
   "cell_type": "code",
   "execution_count": 2,
   "metadata": {},
   "outputs": [],
   "source": [
    "import torch\n",
    "import torch.nn as nn\n",
    "import torch.optim as optim\n",
    "import torchvision.transforms as transforms\n",
    "from torchvision.datasets import ImageFolder\n",
    "from torch.utils.data import DataLoader\n",
    "from torchvision.models import vision_transformer as vits"
   ]
  },
  {
   "cell_type": "code",
   "execution_count": 3,
   "metadata": {},
   "outputs": [
    {
     "name": "stdout",
     "output_type": "stream",
     "text": [
      "cuda:0\n"
     ]
    }
   ],
   "source": [
    "init = [None,\"IMAGENET1K_V1\", \"IMAGENET1K_SWAG_E2E_V1\"]\n",
    "backbone = models.vit_b_16\n",
    "data_transforms = transforms.Compose([\n",
    "    transforms.Resize((64, 64)),  \n",
    "    transforms.ToTensor(),\n",
    "    transforms.Normalize(mean=[0.485, 0.456, 0.406], std=[0.229, 0.224, 0.225])\n",
    "])\n",
    "device = torch.device(\"cuda:0\" if torch.cuda.is_available() else \"cpu\")\n",
    "print(device)\n",
    "training_type = ['fine_tuning', 'linear_probe']\n",
    "batch_size = 64  \n",
    "num_epochs = 20\n",
    "lr = 0.001  \n",
    "weight_decay = 0.0005"
   ]
  },
  {
   "cell_type": "code",
   "execution_count": 4,
   "metadata": {},
   "outputs": [],
   "source": [
    "def select_percentage_of_train_dataset(dataset, percentage):\n",
    "    class_counts = {}\n",
    "    indices_by_class = {}\n",
    "    # Count the number of samples in each class\n",
    "    for idx, (_, label) in enumerate(dataset):\n",
    "        if label not in class_counts:\n",
    "            class_counts[label] = 0\n",
    "            indices_by_class[label] = []\n",
    "        class_counts[label] += 1\n",
    "        indices_by_class[label].append(idx)\n",
    "\n",
    "    selected_indices = []\n",
    "\n",
    "    # Select a percentage of samples from each class\n",
    "    for _, indices in indices_by_class.items():\n",
    "        num_samples = int(len(indices) * percentage)\n",
    "        selected_samples = random.sample(indices, num_samples)\n",
    "        selected_indices.extend(selected_samples)\n",
    "\n",
    "    selected_data = Subset(dataset, selected_indices)\n",
    "    return selected_data\n",
    "\n",
    "def model_def(backbone, training_type, weights, num_classes, device = torch.device(\"cuda\" if torch.cuda.is_available() else \"cpu\")):\n",
    "    model = backbone(weights=weights)\n",
    "    model.heads.head = nn.Linear(in_features=model.heads.head.in_features, out_features=num_classes)\n",
    "\n",
    "    if training_type == 'fine_tuning':\n",
    "        for param in model.parameters():\n",
    "            param.requires_grad = True\n",
    "    elif training_type == 'linear_probe':\n",
    "        for param in model.parameters():\n",
    "            param.requires_grad = False\n",
    "        for param in model.heads.head.parameters():\n",
    "            param.requires_grad = True\n",
    "    else:\n",
    "        raise ValueError('Invalid training type!')\n",
    "    return model.to(device)\n",
    "\n",
    "def evaluate_model(model, test_loader, criterion, device):\n",
    "    model.eval()  \n",
    "    test_loss = 0.0\n",
    "    correct = 0\n",
    "    total = 0\n",
    "\n",
    "\n",
    "    with torch.no_grad():\n",
    "        for inputs, labels in test_loader:\n",
    "            if device:\n",
    "                inputs = inputs.cuda()\n",
    "                labels = labels.cuda()\n",
    "\n",
    "            outputs = model(inputs)\n",
    "            loss = criterion(outputs, labels)\n",
    "            test_loss += loss.item() * inputs.size(0)\n",
    "\n",
    "            _, predicted = torch.max(outputs.data, 1)\n",
    "            total += labels.size(0)\n",
    "            correct += (predicted == labels).sum().item()\n",
    "\n",
    "\n",
    "    test_loss /= len(test_loader.dataset)\n",
    "    accuracy = 100 * correct / total\n",
    "\n",
    "    return accuracy, test_loss\n",
    "\n",
    "def train_model(model, selected_train_loader, test_loader, criterion, optimizer, scheduler, num_epochs, device, save_dir):\n",
    "    train_loss = []\n",
    "    train_accuracy = []\n",
    "    test_loss = []\n",
    "    test_accuracy = []\n",
    "    best_acc = 0.0\n",
    "    best_loss = float('inf')\n",
    "\n",
    "    for epoch in range(1, num_epochs + 1):\n",
    "        print(f'Epoch {epoch} of {num_epochs}')\n",
    "        correct = 0\n",
    "        iterations = 0\n",
    "        iter_loss = 0.0\n",
    "        total = 0\n",
    "\n",
    "        model.train()  \n",
    "\n",
    "        for i, (inputs, labels) in enumerate(selected_train_loader):\n",
    "            if device:\n",
    "                inputs = inputs.to(device)\n",
    "                labels = labels.to(device)\n",
    "            outputs = model(inputs)\n",
    "            loss = criterion(outputs, labels)\n",
    "            iter_loss += loss.item() \n",
    "            optimizer.zero_grad() \n",
    "            loss.backward()  \n",
    "            optimizer.step()  \n",
    "\n",
    "            _, predicted = torch.max(outputs.data, 1)\n",
    "            total += labels.size(0)\n",
    "            correct += (predicted == labels).sum().item()\n",
    "            \n",
    "        scheduler.step()\n",
    "\n",
    "        train_loss.append(iter_loss / iterations)\n",
    "        train_accuracy.append(100 * correct / total)\n",
    "\n",
    "        test_acc, test_losses = evaluate_model(model, test_loader, criterion, device)\n",
    "\n",
    "        test_loss.append(test_losses)\n",
    "        test_accuracy.append(test_acc)\n",
    "\n",
    "        print(f'Epoch {epoch} Train results: Loss={train_loss[-1]:.4f} | Accuracy={train_accuracy[-1]:.2f}%')\n",
    "        print(f'Epoch {epoch} Test results: Loss={test_loss[-1]:.4f} | Accuracy={test_accuracy[-1]:.2f}%\\n')\n",
    "\n",
    "        if test_acc > best_acc:\n",
    "            best_acc = test_acc\n",
    "            # torch.save(model.state_dict(), os.path.join(save_dir, 'best_acc_model.pth'))\n",
    "\n",
    "        if test_losses < best_loss:\n",
    "            best_loss = test_losses\n",
    "            # torch.save(model.state_dict(), os.path.join(save_dir, 'best_loss_model.pth'))\n",
    "    return train_loss, train_accuracy, test_loss, test_accuracy\n"
   ]
  },
  {
   "cell_type": "code",
   "execution_count": null,
   "metadata": {},
   "outputs": [],
   "source": []
  },
  {
   "cell_type": "code",
   "execution_count": null,
   "metadata": {},
   "outputs": [],
   "source": []
  },
  {
   "cell_type": "code",
   "execution_count": 5,
   "metadata": {},
   "outputs": [
    {
     "name": "stdout",
     "output_type": "stream",
     "text": [
      "Classes: ['AnnualCrop', 'Forest', 'HerbaceousVegetation', 'Highway', 'Industrial', 'Pasture', 'PermanentCrop', 'Residential', 'River', 'SeaLake']\n"
     ]
    }
   ],
   "source": [
    "dataset_path = \"/home/akansh-i2sc/Desktop/Study/HLCV/Why-Self-Supervision-in-Time/data/EuroSAT/\"\n",
    "#Data transforms and dataloaders\n",
    "data_transforms = transforms.Compose([\n",
    "    transforms.Resize((64,64)),\n",
    "    transforms.ToTensor(),\n",
    "    transforms.Normalize([0.485, 0.456, 0.406], [0.229, 0.224, 0.225])\n",
    "])\n",
    "\n",
    "train_dataset = datasets.ImageFolder(os.path.join(dataset_path, 'train'), data_transforms)\n",
    "train_loader = DataLoader(train_dataset, batch_size, shuffle=True, num_workers=4, pin_memory=True)\n",
    "test_dataset = datasets.ImageFolder(os.path.join(dataset_path, 'test'), data_transforms)\n",
    "test_loader = DataLoader(test_dataset, batch_size, shuffle=False, num_workers=4, pin_memory=True)\n",
    "\n",
    "num_classes = len(train_dataset.classes)\n",
    "class_names = train_dataset.classes\n",
    "print(\"Classes:\", class_names)"
   ]
  },
  {
   "cell_type": "code",
   "execution_count": 6,
   "metadata": {},
   "outputs": [
    {
     "name": "stdout",
     "output_type": "stream",
     "text": [
      "{0: 300, 1: 300, 2: 300, 3: 250, 4: 250, 5: 200, 6: 250, 7: 300, 8: 250, 9: 300}\n"
     ]
    }
   ],
   "source": [
    "from collections import Counter\n",
    "print(dict(Counter(test_dataset.targets)))"
   ]
  },
  {
   "cell_type": "code",
   "execution_count": 7,
   "metadata": {},
   "outputs": [],
   "source": [
    "percentage_list = np.arange(0.0, 1.1, 0.10)\n",
    "percentage_list[0] = 0.01"
   ]
  },
  {
   "cell_type": "code",
   "execution_count": 8,
   "metadata": {},
   "outputs": [
    {
     "data": {
      "application/vnd.jupyter.widget-view+json": {
       "model_id": "8a81ffdb74504e79830ea04d63228565",
       "version_major": 2,
       "version_minor": 0
      },
      "text/plain": [
       "  0%|          | 0/3 [00:00<?, ?it/s]"
      ]
     },
     "metadata": {},
     "output_type": "display_data"
    },
    {
     "name": "stdout",
     "output_type": "stream",
     "text": [
      "None\n"
     ]
    },
    {
     "data": {
      "application/vnd.jupyter.widget-view+json": {
       "model_id": "ffe7001aab8645dd9902570da31dce1b",
       "version_major": 2,
       "version_minor": 0
      },
      "text/plain": [
       "  0%|          | 0/2 [00:00<?, ?it/s]"
      ]
     },
     "metadata": {},
     "output_type": "display_data"
    },
    {
     "name": "stdout",
     "output_type": "stream",
     "text": [
      "fine_tuning\n"
     ]
    },
    {
     "data": {
      "application/vnd.jupyter.widget-view+json": {
       "model_id": "33a49d800d344a74867950e47d498eb9",
       "version_major": 2,
       "version_minor": 0
      },
      "text/plain": [
       "  0%|          | 0/11 [00:00<?, ?it/s]"
      ]
     },
     "metadata": {},
     "output_type": "display_data"
    },
    {
     "name": "stdout",
     "output_type": "stream",
     "text": [
      "Percentage of the dataset used: 0.01\n",
      "Epoch 1 of 20\n"
     ]
    },
    {
     "ename": "AssertionError",
     "evalue": "Wrong image height! Expected 224 but got 64!",
     "output_type": "error",
     "traceback": [
      "\u001b[0;31m---------------------------------------------------------------------------\u001b[0m",
      "\u001b[0;31mAssertionError\u001b[0m                            Traceback (most recent call last)",
      "Cell \u001b[0;32mIn[8], line 19\u001b[0m\n\u001b[1;32m     17\u001b[0m selected_train_dataset \u001b[39m=\u001b[39m select_percentage_of_train_dataset(train_dataset, percentage_list[i])\n\u001b[1;32m     18\u001b[0m selected_train_loader \u001b[39m=\u001b[39m DataLoader(selected_train_dataset, batch_size, shuffle\u001b[39m=\u001b[39m\u001b[39mTrue\u001b[39;00m, num_workers\u001b[39m=\u001b[39m\u001b[39m2\u001b[39m, pin_memory\u001b[39m=\u001b[39m\u001b[39mTrue\u001b[39;00m)\n\u001b[0;32m---> 19\u001b[0m train_loss, train_accuracy, test_loss, test_accuracy \u001b[39m=\u001b[39m train_model(model, selected_train_loader, test_loader, criterion, optimizer, scheduler, num_epochs, device, save_dir)\n\u001b[1;32m     21\u001b[0m train_acc_dict_percentage[\u001b[39mf\u001b[39m\u001b[39m\"\u001b[39m\u001b[39m{\u001b[39;00mk\u001b[39m}\u001b[39;00m\u001b[39m_\u001b[39m\u001b[39m{\u001b[39;00mj\u001b[39m}\u001b[39;00m\u001b[39m_\u001b[39m\u001b[39m{\u001b[39;00mpercentage_list[i]\u001b[39m}\u001b[39;00m\u001b[39m\"\u001b[39m] \u001b[39m=\u001b[39m train_accuracy\n\u001b[1;32m     22\u001b[0m test_acc_dict_percentage[\u001b[39mf\u001b[39m\u001b[39m\"\u001b[39m\u001b[39m{\u001b[39;00mk\u001b[39m}\u001b[39;00m\u001b[39m_\u001b[39m\u001b[39m{\u001b[39;00mj\u001b[39m}\u001b[39;00m\u001b[39m_\u001b[39m\u001b[39m{\u001b[39;00mpercentage_list[i]\u001b[39m}\u001b[39;00m\u001b[39m\"\u001b[39m] \u001b[39m=\u001b[39m test_accuracy\n",
      "Cell \u001b[0;32mIn[4], line 87\u001b[0m, in \u001b[0;36mtrain_model\u001b[0;34m(model, selected_train_loader, test_loader, criterion, optimizer, scheduler, num_epochs, device, save_dir)\u001b[0m\n\u001b[1;32m     85\u001b[0m     inputs \u001b[39m=\u001b[39m inputs\u001b[39m.\u001b[39mto(device)\n\u001b[1;32m     86\u001b[0m     labels \u001b[39m=\u001b[39m labels\u001b[39m.\u001b[39mto(device)\n\u001b[0;32m---> 87\u001b[0m outputs \u001b[39m=\u001b[39m model(inputs)\n\u001b[1;32m     88\u001b[0m loss \u001b[39m=\u001b[39m criterion(outputs, labels)\n\u001b[1;32m     89\u001b[0m iter_loss \u001b[39m+\u001b[39m\u001b[39m=\u001b[39m loss\u001b[39m.\u001b[39mitem() \n",
      "File \u001b[0;32m~/anaconda3/lib/python3.10/site-packages/torch/nn/modules/module.py:1501\u001b[0m, in \u001b[0;36mModule._call_impl\u001b[0;34m(self, *args, **kwargs)\u001b[0m\n\u001b[1;32m   1496\u001b[0m \u001b[39m# If we don't have any hooks, we want to skip the rest of the logic in\u001b[39;00m\n\u001b[1;32m   1497\u001b[0m \u001b[39m# this function, and just call forward.\u001b[39;00m\n\u001b[1;32m   1498\u001b[0m \u001b[39mif\u001b[39;00m \u001b[39mnot\u001b[39;00m (\u001b[39mself\u001b[39m\u001b[39m.\u001b[39m_backward_hooks \u001b[39mor\u001b[39;00m \u001b[39mself\u001b[39m\u001b[39m.\u001b[39m_backward_pre_hooks \u001b[39mor\u001b[39;00m \u001b[39mself\u001b[39m\u001b[39m.\u001b[39m_forward_hooks \u001b[39mor\u001b[39;00m \u001b[39mself\u001b[39m\u001b[39m.\u001b[39m_forward_pre_hooks\n\u001b[1;32m   1499\u001b[0m         \u001b[39mor\u001b[39;00m _global_backward_pre_hooks \u001b[39mor\u001b[39;00m _global_backward_hooks\n\u001b[1;32m   1500\u001b[0m         \u001b[39mor\u001b[39;00m _global_forward_hooks \u001b[39mor\u001b[39;00m _global_forward_pre_hooks):\n\u001b[0;32m-> 1501\u001b[0m     \u001b[39mreturn\u001b[39;00m forward_call(\u001b[39m*\u001b[39;49margs, \u001b[39m*\u001b[39;49m\u001b[39m*\u001b[39;49mkwargs)\n\u001b[1;32m   1502\u001b[0m \u001b[39m# Do not call functions when jit is used\u001b[39;00m\n\u001b[1;32m   1503\u001b[0m full_backward_hooks, non_full_backward_hooks \u001b[39m=\u001b[39m [], []\n",
      "File \u001b[0;32m~/anaconda3/lib/python3.10/site-packages/torchvision/models/vision_transformer.py:291\u001b[0m, in \u001b[0;36mVisionTransformer.forward\u001b[0;34m(self, x)\u001b[0m\n\u001b[1;32m    289\u001b[0m \u001b[39mdef\u001b[39;00m \u001b[39mforward\u001b[39m(\u001b[39mself\u001b[39m, x: torch\u001b[39m.\u001b[39mTensor):\n\u001b[1;32m    290\u001b[0m     \u001b[39m# Reshape and permute the input tensor\u001b[39;00m\n\u001b[0;32m--> 291\u001b[0m     x \u001b[39m=\u001b[39m \u001b[39mself\u001b[39;49m\u001b[39m.\u001b[39;49m_process_input(x)\n\u001b[1;32m    292\u001b[0m     n \u001b[39m=\u001b[39m x\u001b[39m.\u001b[39mshape[\u001b[39m0\u001b[39m]\n\u001b[1;32m    294\u001b[0m     \u001b[39m# Expand the class token to the full batch\u001b[39;00m\n",
      "File \u001b[0;32m~/anaconda3/lib/python3.10/site-packages/torchvision/models/vision_transformer.py:271\u001b[0m, in \u001b[0;36mVisionTransformer._process_input\u001b[0;34m(self, x)\u001b[0m\n\u001b[1;32m    269\u001b[0m n, c, h, w \u001b[39m=\u001b[39m x\u001b[39m.\u001b[39mshape\n\u001b[1;32m    270\u001b[0m p \u001b[39m=\u001b[39m \u001b[39mself\u001b[39m\u001b[39m.\u001b[39mpatch_size\n\u001b[0;32m--> 271\u001b[0m torch\u001b[39m.\u001b[39;49m_assert(h \u001b[39m==\u001b[39;49m \u001b[39mself\u001b[39;49m\u001b[39m.\u001b[39;49mimage_size, \u001b[39mf\u001b[39;49m\u001b[39m\"\u001b[39;49m\u001b[39mWrong image height! Expected \u001b[39;49m\u001b[39m{\u001b[39;49;00m\u001b[39mself\u001b[39;49m\u001b[39m.\u001b[39;49mimage_size\u001b[39m}\u001b[39;49;00m\u001b[39m but got \u001b[39;49m\u001b[39m{\u001b[39;49;00mh\u001b[39m}\u001b[39;49;00m\u001b[39m!\u001b[39;49m\u001b[39m\"\u001b[39;49m)\n\u001b[1;32m    272\u001b[0m torch\u001b[39m.\u001b[39m_assert(w \u001b[39m==\u001b[39m \u001b[39mself\u001b[39m\u001b[39m.\u001b[39mimage_size, \u001b[39mf\u001b[39m\u001b[39m\"\u001b[39m\u001b[39mWrong image width! Expected \u001b[39m\u001b[39m{\u001b[39;00m\u001b[39mself\u001b[39m\u001b[39m.\u001b[39mimage_size\u001b[39m}\u001b[39;00m\u001b[39m but got \u001b[39m\u001b[39m{\u001b[39;00mw\u001b[39m}\u001b[39;00m\u001b[39m!\u001b[39m\u001b[39m\"\u001b[39m)\n\u001b[1;32m    273\u001b[0m n_h \u001b[39m=\u001b[39m h \u001b[39m/\u001b[39m\u001b[39m/\u001b[39m p\n",
      "File \u001b[0;32m~/anaconda3/lib/python3.10/site-packages/torch/__init__.py:1209\u001b[0m, in \u001b[0;36m_assert\u001b[0;34m(condition, message)\u001b[0m\n\u001b[1;32m   1207\u001b[0m \u001b[39mif\u001b[39;00m \u001b[39mtype\u001b[39m(condition) \u001b[39mis\u001b[39;00m \u001b[39mnot\u001b[39;00m torch\u001b[39m.\u001b[39mTensor \u001b[39mand\u001b[39;00m has_torch_function((condition,)):\n\u001b[1;32m   1208\u001b[0m     \u001b[39mreturn\u001b[39;00m handle_torch_function(_assert, (condition,), condition, message)\n\u001b[0;32m-> 1209\u001b[0m \u001b[39massert\u001b[39;00m condition, message\n",
      "\u001b[0;31mAssertionError\u001b[0m: Wrong image height! Expected 224 but got 64!"
     ]
    }
   ],
   "source": [
    "save_dir = \"/home/idisc02/Desktop/Hewan/hlcv/Why-Self-Supervision-in-Time/src/models\"\n",
    "train_acc_dict_percentage = {}\n",
    "test_acc_dict_percentage = {}\n",
    "train_loss_dict_percentage = {}\n",
    "test_loss_dict_percentage = {}\n",
    "\n",
    "for k in tqdm(init):\n",
    "    print(k)\n",
    "    for j in tqdm(training_type):\n",
    "        print(j)\n",
    "        for i in tqdm(range(len(percentage_list))):\n",
    "            print(f'Percentage of the dataset used: {percentage_list[i]}')\n",
    "            model = model_def(backbone, j, k, num_classes, device)\n",
    "            criterion = nn.CrossEntropyLoss()\n",
    "            optimizer = optim.Adam(model.parameters(), lr=lr, weight_decay=weight_decay)\n",
    "            scheduler = lr_scheduler.StepLR(optimizer, step_size=7, gamma=0.1)\n",
    "            selected_train_dataset = select_percentage_of_train_dataset(train_dataset, percentage_list[i])\n",
    "            selected_train_loader = DataLoader(selected_train_dataset, batch_size, shuffle=True, num_workers=2, pin_memory=True)\n",
    "            train_loss, train_accuracy, test_loss, test_accuracy = train_model(model, selected_train_loader, test_loader, criterion, optimizer, scheduler, num_epochs, device, save_dir)\n",
    "\n",
    "            train_acc_dict_percentage[f\"{k}_{j}_{percentage_list[i]}\"] = train_accuracy\n",
    "            test_acc_dict_percentage[f\"{k}_{j}_{percentage_list[i]}\"] = test_accuracy\n",
    "            train_loss_dict_percentage[f\"{k}_{j}_{percentage_list[i]}\"] = train_loss\n",
    "            test_loss_dict_percentage[f\"{k}_{j}_{percentage_list[i]}\"] = test_loss"
   ]
  },
  {
   "cell_type": "code",
   "execution_count": 27,
   "metadata": {},
   "outputs": [
    {
     "data": {
      "text/plain": [
       "dict_keys(['None_fine_tuning_0.01', 'None_fine_tuning_0.1', 'None_fine_tuning_0.2', 'None_fine_tuning_0.30000000000000004', 'None_fine_tuning_0.4', 'None_fine_tuning_0.5', 'None_fine_tuning_0.6000000000000001', 'None_fine_tuning_0.7000000000000001', 'None_fine_tuning_0.8', 'None_fine_tuning_0.9', 'None_fine_tuning_1.0', 'None_linear_probe_0.01', 'None_linear_probe_0.1', 'None_linear_probe_0.2', 'None_linear_probe_0.30000000000000004', 'None_linear_probe_0.4', 'None_linear_probe_0.5', 'None_linear_probe_0.6000000000000001', 'None_linear_probe_0.7000000000000001', 'None_linear_probe_0.8'])"
      ]
     },
     "execution_count": 27,
     "metadata": {},
     "output_type": "execute_result"
    }
   ],
   "source": [
    "test_acc_dict_percentage.keys()"
   ]
  },
  {
   "cell_type": "code",
   "execution_count": 28,
   "metadata": {},
   "outputs": [
    {
     "ename": "KeyError",
     "evalue": "'None_linear_probe_0.9'",
     "output_type": "error",
     "traceback": [
      "\u001b[0;31m---------------------------------------------------------------------------\u001b[0m",
      "\u001b[0;31mKeyError\u001b[0m                                  Traceback (most recent call last)",
      "Cell \u001b[0;32mIn[28], line 12\u001b[0m\n\u001b[1;32m     10\u001b[0m None_fine_tuning\u001b[39m.\u001b[39mappend(np\u001b[39m.\u001b[39mmax(test_acc_dict_percentage[key]))\n\u001b[1;32m     11\u001b[0m key \u001b[39m=\u001b[39m \u001b[39mf\u001b[39m\u001b[39m\"\u001b[39m\u001b[39mNone_linear_probe_\u001b[39m\u001b[39m{\u001b[39;00mi\u001b[39m}\u001b[39;00m\u001b[39m\"\u001b[39m\n\u001b[0;32m---> 12\u001b[0m None_linear_probe\u001b[39m.\u001b[39mappend(np\u001b[39m.\u001b[39mmax(test_acc_dict_percentage[key]))\n",
      "\u001b[0;31mKeyError\u001b[0m: 'None_linear_probe_0.9'"
     ]
    }
   ],
   "source": [
    "None_fine_tuning = []\n",
    "None_linear_probe = []\n",
    "Imagenetv1_fine_tuning = []\n",
    "Imagenetv2_fine_tuning = []\n",
    "Imagenetv1_fine_tuning_linear_probe = []\n",
    "Imagenetv2_fine_tuning_linear_probe = []\n",
    "\n",
    "for i in percentage_list:\n",
    "    key = f\"None_fine_tuning_{i}\"\n",
    "    None_fine_tuning.append(np.max(test_acc_dict_percentage[key]))\n",
    "    key = f\"None_linear_probe_{i}\"\n",
    "    None_linear_probe.append(np.max(test_acc_dict_percentage[key]))\n",
    "    # key = f\"ResNet50_Weights.IMAGENET1K_V1_fine_tuning_{i}\"\n",
    "    # Imagenetv1_fine_tuning.append(np.max(test_acc_dict_percentage[key]))\n",
    "    # key = f\"ResNet50_Weights.IMAGENET1K_V2_fine_tuning_{i}\"\n",
    "    # Imagenetv2_fine_tuning.append(np.max(test_acc_dict_percentage[key]))\n",
    "    # key = f\"ResNet50_Weights.IMAGENET1K_V1_linear_probe_{i}\"\n",
    "    # Imagenetv1_fine_tuning_linear_probe.append(np.max(test_acc_dict_percentage[key]))\n",
    "    # key = f\"ResNet50_Weights.IMAGENET1K_V2_linear_probe_{i}\"\n",
    "    # Imagenetv2_fine_tuning_linear_probe.append(np.max(test_acc_dict_percentage[key]))\n",
    "\n"
   ]
  },
  {
   "cell_type": "code",
   "execution_count": 31,
   "metadata": {},
   "outputs": [
    {
     "data": {
      "text/plain": [
       "[<matplotlib.lines.Line2D at 0x7fbcb3733a00>]"
      ]
     },
     "execution_count": 31,
     "metadata": {},
     "output_type": "execute_result"
    },
    {
     "data": {
      "image/png": "[encoded data removed]",
      "text/plain": [
       "<Figure size 640x480 with 1 Axes>"
      ]
     },
     "metadata": {},
     "output_type": "display_data"
    }
   ],
   "source": [
    "plt.plot(None_linear_probe)\n",
    "plt.plot(None_fine_tuning)"
   ]
  },
  {
   "cell_type": "code",
   "execution_count": null,
   "metadata": {},
   "outputs": [],
   "source": [
    "#plot all the list with legend\n",
    "plt.figure(figsize=(12, 8))\n",
    "plt.plot(percentage_list, None_fine_tuning, label='Random Initialization', marker= 'o')\n",
    "plt.plot(percentage_list, Imagenetv1_fine_tuning, label='Imagenetv1 Initialization', marker= 'o')\n",
    "plt.plot(percentage_list, Imagenetv2_fine_tuning, label='Imagenetv2 Initialization', marker= 'o')\n",
    "plt.xlabel('Percentage of the dataset used')\n",
    "plt.ylabel('Accuracy')\n",
    "plt.legend()\n",
    "plt.title('Accuracy vs. Percentage of the dataset used(Fine-tuning)[EuroSAT]')\n",
    "plt.savefig('/home/idisc02/Desktop/Hewan/hlcv/Why-Self-Supervision-in-Time/data/assets/finetuning.png')"
   ]
  }
 ],
 "metadata": {
  "kernelspec": {
   "display_name": "base",
   "language": "python",
   "name": "python3"
  },
  "language_info": {
   "codemirror_mode": {
    "name": "ipython",
    "version": 3
   },
   "file_extension": ".py",
   "mimetype": "text/x-python",
   "name": "python",
   "nbconvert_exporter": "python",
   "pygments_lexer": "ipython3",
   "version": "3.10.9"
  },
  "orig_nbformat": 4
 },
 "nbformat": 4,
 "nbformat_minor": 2
}
